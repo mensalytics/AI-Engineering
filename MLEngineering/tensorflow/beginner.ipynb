{
 "cells": [
  {
   "cell_type": "code",
   "execution_count": 2,
   "metadata": {},
   "outputs": [
    {
     "name": "stdout",
     "output_type": "stream",
     "text": [
      "Tensorflow version: 2.8.0\n"
     ]
    }
   ],
   "source": [
    "# TENSORFLOW \n",
    "\n",
    "import tensorflow as tf \n",
    "print('Tensorflow version: {}'.format(tf.__version__))"
   ]
  },
  {
   "cell_type": "code",
   "execution_count": 6,
   "metadata": {},
   "outputs": [],
   "source": [
    "# Loading a dataset \n",
    "mnist = tf.keras.datasets.mnist \n",
    "\n",
    "(x_train, y_train), (x_test, y_test) = mnist.load_data() \n"
   ]
  },
  {
   "cell_type": "code",
   "execution_count": 7,
   "metadata": {},
   "outputs": [],
   "source": [
    "x_train, x_test = x_train / 255.0, x_test / 255.0 \n",
    "# pixel images range from 0 to 255\n",
    "# scale by to range 0 to 1 by dividing by 255 "
   ]
  },
  {
   "cell_type": "code",
   "execution_count": 8,
   "metadata": {},
   "outputs": [],
   "source": [
    "# Build machine learning model \n",
    "# Sequential is useful for stacking layers where each layer \n",
    "# has one input tensor and one output tensor \n",
    "# Layers are functions with know math structure that can be reused and have trainable variables \n",
    "# Most tensor models are composed of layers ie Flatten, Dense, Dropout etc \n",
    "# Flatten ?? # Dense ?? # Dropout ??\n",
    "model = tf.keras.models.Sequential([\n",
    "    tf.keras.layers.Flatten(input_shape=(28, 28)), \n",
    "    tf.keras.layers.Dense(128, activation='relu'), \n",
    "    tf.keras.layers.Dropout(0.2), \n",
    "    tf.keras.layers.Dense(10)\n",
    "])"
   ]
  },
  {
   "cell_type": "code",
   "execution_count": 9,
   "metadata": {},
   "outputs": [
    {
     "data": {
      "text/plain": [
       "array([[-0.23390253, -0.02438065,  0.23565167, -0.32434618,  0.100757  ,\n",
       "         0.6025284 , -0.23720473, -0.29238352, -0.22445783, -0.5639548 ]],\n",
       "      dtype=float32)"
      ]
     },
     "execution_count": 9,
     "metadata": {},
     "output_type": "execute_result"
    }
   ],
   "source": [
    "predictions = model(x_train[:1]).numpy()\n",
    "predictions "
   ]
  },
  {
   "cell_type": "code",
   "execution_count": 10,
   "metadata": {},
   "outputs": [
    {
     "data": {
      "text/plain": [
       "array([[0.08250996, 0.10174208, 0.13195662, 0.07537498, 0.11530474,\n",
       "        0.19044243, 0.08223794, 0.07782308, 0.08329294, 0.05931527]],\n",
       "      dtype=float32)"
      ]
     },
     "execution_count": 10,
     "metadata": {},
     "output_type": "execute_result"
    }
   ],
   "source": [
    "# softmax function converts these logits to probabilities \n",
    "# what are logits ?? \n",
    "tf.nn.softmax(predictions).numpy()"
   ]
  },
  {
   "cell_type": "code",
   "execution_count": 11,
   "metadata": {},
   "outputs": [],
   "source": [
    "# Loss functions => takes a vector of ground truth values and vector of logits and \n",
    "# returns a scalar loss for each example. \n",
    "# The loss is equal to the negative log probability of the true class: \n",
    "# The loss is zero if the model is sure of the correct class "
   ]
  },
  {
   "cell_type": "code",
   "execution_count": 13,
   "metadata": {},
   "outputs": [],
   "source": [
    "# The untrained model gives probabilities close to random (1/10 for each class),\n",
    "loss_fn = tf.keras.losses.SparseCategoricalCrossentropy(from_logits=True)"
   ]
  },
  {
   "cell_type": "code",
   "execution_count": 14,
   "metadata": {},
   "outputs": [
    {
     "data": {
      "text/plain": [
       "1.6584053"
      ]
     },
     "execution_count": 14,
     "metadata": {},
     "output_type": "execute_result"
    }
   ],
   "source": [
    "loss_fn(y_train[:1], predictions).numpy()"
   ]
  },
  {
   "cell_type": "code",
   "execution_count": 15,
   "metadata": {},
   "outputs": [],
   "source": [
    "# Before training, configure and compile the model using Model.compile\n",
    "# set optimiser class to adam\n",
    "# what is adam ?? \n",
    "# set the loss function to loss_fn \n",
    "# specify metric to be evaluated for the model setting metrics parameter to accuracy \n",
    "model.compile(optimizer='adam', loss=loss_fn, metrics=['accuracy'])"
   ]
  },
  {
   "cell_type": "code",
   "execution_count": 16,
   "metadata": {},
   "outputs": [
    {
     "name": "stdout",
     "output_type": "stream",
     "text": [
      "Epoch 1/5\n",
      "   1/1875 [..............................] - ETA: 4:10 - loss: 2.3910 - accuracy: 0.0312"
     ]
    },
    {
     "name": "stderr",
     "output_type": "stream",
     "text": [
      "2023-02-06 21:20:06.639554: W tensorflow/core/platform/profile_utils/cpu_utils.cc:128] Failed to get CPU frequency: 0 Hz\n"
     ]
    },
    {
     "name": "stdout",
     "output_type": "stream",
     "text": [
      "1875/1875 [==============================] - 2s 779us/step - loss: 0.2917 - accuracy: 0.9147\n",
      "Epoch 2/5\n",
      "1875/1875 [==============================] - 1s 706us/step - loss: 0.1421 - accuracy: 0.9576\n",
      "Epoch 3/5\n",
      "1875/1875 [==============================] - 1s 776us/step - loss: 0.1053 - accuracy: 0.9679\n",
      "Epoch 4/5\n",
      "1875/1875 [==============================] - 1s 698us/step - loss: 0.0866 - accuracy: 0.9737\n",
      "Epoch 5/5\n",
      "1875/1875 [==============================] - 1s 700us/step - loss: 0.0755 - accuracy: 0.9767\n"
     ]
    },
    {
     "data": {
      "text/plain": [
       "<keras.callbacks.History at 0x16984cd90>"
      ]
     },
     "execution_count": 16,
     "metadata": {},
     "output_type": "execute_result"
    }
   ],
   "source": [
    "# Train and evaluate the model \n",
    "model.fit(x_train, y_train, epochs=5)"
   ]
  },
  {
   "cell_type": "code",
   "execution_count": 17,
   "metadata": {},
   "outputs": [
    {
     "name": "stdout",
     "output_type": "stream",
     "text": [
      "313/313 - 0s - loss: 0.0729 - accuracy: 0.9787 - 168ms/epoch - 537us/step\n"
     ]
    },
    {
     "data": {
      "text/plain": [
       "[0.07286735624074936, 0.9786999821662903]"
      ]
     },
     "execution_count": 17,
     "metadata": {},
     "output_type": "execute_result"
    }
   ],
   "source": [
    "# Evaluate the model \n",
    "# model.evaluate method checks the models performance \n",
    "# on a validation or test set \n",
    "model.evaluate(x_test, y_test, verbose=2) "
   ]
  },
  {
   "cell_type": "code",
   "execution_count": 18,
   "metadata": {},
   "outputs": [],
   "source": [
    "# model returning a probability \n",
    "# wrap the model and attach a softmax to it \n",
    "probability_model = tf.keras.Sequential([\n",
    "    model, \n",
    "    tf.keras.layers.Softmax() \n",
    "])"
   ]
  },
  {
   "cell_type": "code",
   "execution_count": 19,
   "metadata": {},
   "outputs": [
    {
     "data": {
      "text/plain": [
       "<tf.Tensor: shape=(5, 10), dtype=float32, numpy=\n",
       "array([[1.08611204e-07, 7.48802886e-09, 5.10687471e-07, 1.02870421e-04,\n",
       "        2.38524803e-12, 5.80084532e-08, 3.68023068e-15, 9.99893904e-01,\n",
       "        4.98047825e-09, 2.64570895e-06],\n",
       "       [4.14421102e-08, 1.88761132e-05, 9.99919653e-01, 6.14003220e-05,\n",
       "        4.35039854e-16, 8.25296382e-08, 7.74368569e-09, 1.65879720e-13,\n",
       "        5.71561358e-08, 5.76002868e-14],\n",
       "       [2.60346246e-06, 9.97812748e-01, 1.94906301e-04, 4.32227826e-05,\n",
       "        1.44998790e-04, 6.52961126e-06, 2.33972205e-05, 1.24460843e-03,\n",
       "        5.25229436e-04, 1.76925960e-06],\n",
       "       [9.99969125e-01, 9.91235094e-10, 1.21533258e-05, 7.06755657e-07,\n",
       "        8.74994388e-09, 4.01597526e-06, 8.88716295e-06, 1.73568890e-06,\n",
       "        4.30779323e-08, 3.25575184e-06],\n",
       "       [7.56267127e-06, 4.28869784e-09, 6.25637040e-05, 2.02885943e-07,\n",
       "        9.88426745e-01, 2.62497474e-06, 9.19672038e-06, 6.97203795e-04,\n",
       "        6.50214361e-06, 1.07873715e-02]], dtype=float32)>"
      ]
     },
     "execution_count": 19,
     "metadata": {},
     "output_type": "execute_result"
    }
   ],
   "source": [
    "probability_model(x_test[:5]) "
   ]
  },
  {
   "cell_type": "code",
   "execution_count": null,
   "metadata": {},
   "outputs": [],
   "source": []
  }
 ],
 "metadata": {
  "kernelspec": {
   "display_name": "Python 3",
   "language": "python",
   "name": "python3"
  },
  "language_info": {
   "codemirror_mode": {
    "name": "ipython",
    "version": 3
   },
   "file_extension": ".py",
   "mimetype": "text/x-python",
   "name": "python",
   "nbconvert_exporter": "python",
   "pygments_lexer": "ipython3",
   "version": "3.9.10"
  },
  "orig_nbformat": 4,
  "vscode": {
   "interpreter": {
    "hash": "aee8b7b246df8f9039afb4144a1f6fd8d2ca17a180786b69acc140d282b71a49"
   }
  }
 },
 "nbformat": 4,
 "nbformat_minor": 2
}
