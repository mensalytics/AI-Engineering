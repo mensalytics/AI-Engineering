{
 "cells": [
  {
   "cell_type": "code",
   "execution_count": 1,
   "metadata": {},
   "outputs": [],
   "source": [
    "import torch \n",
    "from torch import nn \n",
    "from torch.utils.data import DataLoader \n"
   ]
  },
  {
   "cell_type": "code",
   "execution_count": 2,
   "metadata": {},
   "outputs": [],
   "source": [
    "from torchvision import datasets\n",
    "from torchvision.transforms import ToTensor"
   ]
  },
  {
   "cell_type": "code",
   "execution_count": 3,
   "metadata": {},
   "outputs": [],
   "source": [
    "# Domain specific libraries \n",
    "# Torchtext, torchvision, torchaudio etc \n",
    "# all of them include datasets"
   ]
  },
  {
   "cell_type": "code",
   "execution_count": 4,
   "metadata": {},
   "outputs": [
    {
     "name": "stdout",
     "output_type": "stream",
     "text": [
      "Downloading http://fashion-mnist.s3-website.eu-central-1.amazonaws.com/train-images-idx3-ubyte.gz\n",
      "Downloading http://fashion-mnist.s3-website.eu-central-1.amazonaws.com/train-images-idx3-ubyte.gz to data/FashionMNIST/raw/train-images-idx3-ubyte.gz\n"
     ]
    },
    {
     "data": {
      "application/vnd.jupyter.widget-view+json": {
       "model_id": "f4c78284fc0d43c69fc9cddc20f12a4d",
       "version_major": 2,
       "version_minor": 0
      },
      "text/plain": [
       "  0%|          | 0/26421880 [00:00<?, ?it/s]"
      ]
     },
     "metadata": {},
     "output_type": "display_data"
    },
    {
     "name": "stdout",
     "output_type": "stream",
     "text": [
      "Extracting data/FashionMNIST/raw/train-images-idx3-ubyte.gz to data/FashionMNIST/raw\n",
      "\n",
      "Downloading http://fashion-mnist.s3-website.eu-central-1.amazonaws.com/train-labels-idx1-ubyte.gz\n",
      "Downloading http://fashion-mnist.s3-website.eu-central-1.amazonaws.com/train-labels-idx1-ubyte.gz to data/FashionMNIST/raw/train-labels-idx1-ubyte.gz\n"
     ]
    },
    {
     "data": {
      "application/vnd.jupyter.widget-view+json": {
       "model_id": "7b948b6d90f0418295a3bbaf88a75933",
       "version_major": 2,
       "version_minor": 0
      },
      "text/plain": [
       "  0%|          | 0/29515 [00:00<?, ?it/s]"
      ]
     },
     "metadata": {},
     "output_type": "display_data"
    },
    {
     "name": "stdout",
     "output_type": "stream",
     "text": [
      "Extracting data/FashionMNIST/raw/train-labels-idx1-ubyte.gz to data/FashionMNIST/raw\n",
      "\n",
      "Downloading http://fashion-mnist.s3-website.eu-central-1.amazonaws.com/t10k-images-idx3-ubyte.gz\n",
      "Downloading http://fashion-mnist.s3-website.eu-central-1.amazonaws.com/t10k-images-idx3-ubyte.gz to data/FashionMNIST/raw/t10k-images-idx3-ubyte.gz\n"
     ]
    },
    {
     "data": {
      "application/vnd.jupyter.widget-view+json": {
       "model_id": "e80132107e5940a5b5706ef466a8f34e",
       "version_major": 2,
       "version_minor": 0
      },
      "text/plain": [
       "  0%|          | 0/4422102 [00:00<?, ?it/s]"
      ]
     },
     "metadata": {},
     "output_type": "display_data"
    },
    {
     "name": "stdout",
     "output_type": "stream",
     "text": [
      "Extracting data/FashionMNIST/raw/t10k-images-idx3-ubyte.gz to data/FashionMNIST/raw\n",
      "\n",
      "Downloading http://fashion-mnist.s3-website.eu-central-1.amazonaws.com/t10k-labels-idx1-ubyte.gz\n",
      "Downloading http://fashion-mnist.s3-website.eu-central-1.amazonaws.com/t10k-labels-idx1-ubyte.gz to data/FashionMNIST/raw/t10k-labels-idx1-ubyte.gz\n"
     ]
    },
    {
     "data": {
      "application/vnd.jupyter.widget-view+json": {
       "model_id": "fd2a894cee2a4015a19ff088bf6a7786",
       "version_major": 2,
       "version_minor": 0
      },
      "text/plain": [
       "  0%|          | 0/5148 [00:00<?, ?it/s]"
      ]
     },
     "metadata": {},
     "output_type": "display_data"
    },
    {
     "name": "stdout",
     "output_type": "stream",
     "text": [
      "Extracting data/FashionMNIST/raw/t10k-labels-idx1-ubyte.gz to data/FashionMNIST/raw\n",
      "\n"
     ]
    }
   ],
   "source": [
    "# Download training data from the open datasets \n",
    "training_data = datasets.FashionMNIST(\n",
    "    root = \"data\", \n",
    "    train = True, \n",
    "    download = True, \n",
    "    transform=ToTensor() \n",
    ")"
   ]
  },
  {
   "cell_type": "code",
   "execution_count": 5,
   "metadata": {},
   "outputs": [],
   "source": [
    "# Download the test data from the open datasets \n",
    "test_data = datasets.FashionMNIST(\n",
    "    root = \"data\", \n",
    "    train = False, \n",
    "    download = True, \n",
    "    transform=ToTensor() \n",
    ")"
   ]
  },
  {
   "cell_type": "code",
   "execution_count": 6,
   "metadata": {},
   "outputs": [],
   "source": [
    "# Pass Dataset as an argument to the DataLoader \n",
    "# This wraps the iterable over dataset \n",
    "# supports automatic batching, sampling, shuffling and multiprocess data loading "
   ]
  },
  {
   "cell_type": "code",
   "execution_count": 7,
   "metadata": {},
   "outputs": [],
   "source": [
    "# Here we define a batch size of 64 \n",
    "# each element in the data loader iterable will return a batch of 64 features and labels "
   ]
  },
  {
   "cell_type": "code",
   "execution_count": 8,
   "metadata": {},
   "outputs": [
    {
     "name": "stdout",
     "output_type": "stream",
     "text": [
      "Shape of X [N, C, H, W]: torch.Size([64, 1, 28, 28])\n",
      "Shape of y: torch.Size([64]), dtype: torch.int64\n"
     ]
    }
   ],
   "source": [
    "batch_size = 64 \n",
    "\n",
    "# Create data loaders\n",
    "train_dataloader = DataLoader(training_data, batch_size=batch_size) \n",
    "test_dataloader = DataLoader(test_data, batch_size=batch_size)\n",
    "\n",
    "# iterate over the test data loader \n",
    "for X, y in test_dataloader:\n",
    "    print(f\"Shape of X [N, C, H, W]: {X.shape}\") \n",
    "    print(f\"Shape of y: {y.shape}, dtype: {y.dtype}\") \n",
    "    break "
   ]
  },
  {
   "cell_type": "code",
   "execution_count": 9,
   "metadata": {},
   "outputs": [],
   "source": [
    "# LOADING DATA IN PYTORCH ?? READ MORE "
   ]
  },
  {
   "cell_type": "code",
   "execution_count": 10,
   "metadata": {},
   "outputs": [],
   "source": [
    "# CREATE MODELS \n",
    "# DEFINE A NUERAL NETWORK \n",
    "# CREATE A CLASS THAT INHERITS FROM NN.MODULE \n",
    "# DEFINE THE LAYERS IN THE __INIT__ METHOD \n",
    "# SPECIFY HOW DATA WILL PASS THROUGH THE NETWORK IN THE FORWARD FUNCTION \n"
   ]
  },
  {
   "cell_type": "code",
   "execution_count": 12,
   "metadata": {},
   "outputs": [
    {
     "name": "stdout",
     "output_type": "stream",
     "text": [
      "Using mps device\n"
     ]
    }
   ],
   "source": [
    "device = \"cuda\" if torch.cuda.is_available() else \"mps\"  if torch.backends.mps.is_available() else \"cpu\" \n",
    "print(\"Using {} device\".format(device))"
   ]
  },
  {
   "cell_type": "code",
   "execution_count": 14,
   "metadata": {},
   "outputs": [
    {
     "name": "stdout",
     "output_type": "stream",
     "text": [
      "NeuralNetwork(\n",
      "  (flatten): Flatten(start_dim=1, end_dim=-1)\n",
      "  (linear_relu_stack): Sequential(\n",
      "    (0): Linear(in_features=784, out_features=512, bias=True)\n",
      "    (1): ReLU()\n",
      "    (2): Linear(in_features=512, out_features=512, bias=True)\n",
      "    (3): ReLU()\n",
      "    (4): Linear(in_features=512, out_features=10, bias=True)\n",
      "    (5): ReLU()\n",
      "  )\n",
      ")\n"
     ]
    }
   ],
   "source": [
    "# DEFINE THE MODEL \n",
    "class NeuralNetwork(nn.Module):\n",
    "    def __init__(self):\n",
    "        super(NeuralNetwork, self).__init__()\n",
    "        self.flatten = nn.Flatten() \n",
    "        self.linear_relu_stack = nn.Sequential(\n",
    "            nn.Linear(28*28, 512), \n",
    "            nn.ReLU(), \n",
    "            nn.Linear(512, 512), \n",
    "            nn.ReLU(), \n",
    "            nn.Linear(512, 10), \n",
    "            nn.ReLU()\n",
    "        )\n",
    "\n",
    "    def forward(self, x):\n",
    "        x = self.flatten(x) \n",
    "        logits = self.linear_relu_stack(x) \n",
    "        return logits\n",
    "    \n",
    "model = NeuralNetwork().to(device) \n",
    "print(model) "
   ]
  },
  {
   "cell_type": "code",
   "execution_count": 15,
   "metadata": {},
   "outputs": [],
   "source": [
    "# OPTIMISE THE MODELS PARAMETERS \n",
    "# Loss function and an Optimiser \n",
    "loss_fn = nn.CrossEntropyLoss() \n",
    "optimizer = torch.optim.SGD(model.parameters(), lr=1e-3) "
   ]
  },
  {
   "cell_type": "code",
   "execution_count": 16,
   "metadata": {},
   "outputs": [],
   "source": [
    "# Single training loop \n",
    "# model makes a prediction on the training dataset(fed into it in batches) \n",
    "# backpropagates the prediction error to adjust the models parameters \n",
    "\n",
    "def train(dataloader, model, loss_fn, optimizer):\n",
    "    size = len(dataloader.dataset) \n",
    "    model.train() \n",
    "    for batch, (X, y) in enumerate(dataloader):\n",
    "        X, y = X.to(device), y.to(device) \n",
    "\n",
    "        # Compute prediction error \n",
    "        pred = model(X) \n",
    "        loss = loss_fn(pred, y) \n",
    "\n",
    "        # Backpropagation \n",
    "        optimizer.zero_grad() \n",
    "        loss.backward() \n",
    "        optimizer.step() \n",
    "\n",
    "        if batch % 100 == 0:\n",
    "            loss, current = loss.item(), batch * len(X) \n",
    "            print(f\"loss: {loss:>7f}  [{current:>5d}/{size:>5d}]\")"
   ]
  },
  {
   "cell_type": "code",
   "execution_count": 19,
   "metadata": {},
   "outputs": [],
   "source": [
    "# Check models performance against the test dataset to ensure it is learning \n",
    "\n",
    "def test(dataloader, model, loss_fn):\n",
    "    size = len(dataloader.dataset) \n",
    "    num_batches = len(dataloader) \n",
    "    model.eval() \n",
    "    test_loss, correct = 0, 0 \n",
    "    with torch.no_grad(): \n",
    "        for X, y in dataloader: \n",
    "            X, y = X.to(device), y.to(device) \n",
    "            pred = model(X) \n",
    "            test_loss += loss_fn(pred, y).item() \n",
    "            correct += (pred.argmax(1) == y).type(torch.float).sum().item() \n",
    "    test_loss /= num_batches \n",
    "    correct /= size \n",
    "    print(f\"Test Error: \\n Accuracy: {(100*correct):>0.1f}%, Avg loss: {test_loss:>8f} \\n\")"
   ]
  },
  {
   "cell_type": "code",
   "execution_count": 20,
   "metadata": {},
   "outputs": [
    {
     "name": "stdout",
     "output_type": "stream",
     "text": [
      "Epoch 1\n",
      "-------------------------------\n",
      "loss: 2.208367  [    0/60000]\n",
      "loss: 2.205538  [ 6400/60000]\n",
      "loss: 2.175429  [12800/60000]\n",
      "loss: 2.186176  [19200/60000]\n",
      "loss: 2.108014  [25600/60000]\n",
      "loss: 2.104256  [32000/60000]\n",
      "loss: 2.122432  [38400/60000]\n",
      "loss: 2.081427  [44800/60000]\n",
      "loss: 2.058642  [51200/60000]\n",
      "loss: 2.028870  [57600/60000]\n",
      "Test Error: \n",
      " Accuracy: 44.2%, Avg loss: 2.053208 \n",
      "\n",
      "Epoch 2\n",
      "-------------------------------\n",
      "loss: 2.069063  [    0/60000]\n",
      "loss: 2.060877  [ 6400/60000]\n",
      "loss: 2.005819  [12800/60000]\n",
      "loss: 2.037919  [19200/60000]\n",
      "loss: 1.894453  [25600/60000]\n",
      "loss: 1.906089  [32000/60000]\n",
      "loss: 1.929974  [38400/60000]\n",
      "loss: 1.873700  [44800/60000]\n",
      "loss: 1.852670  [51200/60000]\n",
      "loss: 1.806255  [57600/60000]\n",
      "Test Error: \n",
      " Accuracy: 45.9%, Avg loss: 1.834801 \n",
      "\n",
      "Epoch 3\n",
      "-------------------------------\n",
      "loss: 1.891272  [    0/60000]\n",
      "loss: 1.844258  [ 6400/60000]\n",
      "loss: 1.762447  [12800/60000]\n",
      "loss: 1.793318  [19200/60000]\n",
      "loss: 1.626122  [25600/60000]\n",
      "loss: 1.698185  [32000/60000]\n",
      "loss: 1.704276  [38400/60000]\n",
      "loss: 1.669768  [44800/60000]\n",
      "loss: 1.645048  [51200/60000]\n",
      "loss: 1.595719  [57600/60000]\n",
      "Test Error: \n",
      " Accuracy: 55.3%, Avg loss: 1.621771 \n",
      "\n",
      "Epoch 4\n",
      "-------------------------------\n",
      "loss: 1.719879  [    0/60000]\n",
      "loss: 1.637758  [ 6400/60000]\n",
      "loss: 1.549213  [12800/60000]\n",
      "loss: 1.579746  [19200/60000]\n",
      "loss: 1.389372  [25600/60000]\n",
      "loss: 1.517052  [32000/60000]\n",
      "loss: 1.486207  [38400/60000]\n",
      "loss: 1.508815  [44800/60000]\n",
      "loss: 1.453618  [51200/60000]\n",
      "loss: 1.352341  [57600/60000]\n",
      "Test Error: \n",
      " Accuracy: 60.2%, Avg loss: 1.401777 \n",
      "\n",
      "Epoch 5\n",
      "-------------------------------\n",
      "loss: 1.497657  [    0/60000]\n",
      "loss: 1.406245  [ 6400/60000]\n",
      "loss: 1.301686  [12800/60000]\n",
      "loss: 1.385266  [19200/60000]\n",
      "loss: 1.193022  [25600/60000]\n",
      "loss: 1.390855  [32000/60000]\n",
      "loss: 1.336875  [38400/60000]\n",
      "loss: 1.398368  [44800/60000]\n",
      "loss: 1.319590  [51200/60000]\n",
      "loss: 1.222851  [57600/60000]\n",
      "Test Error: \n",
      " Accuracy: 62.1%, Avg loss: 1.270747 \n",
      "\n",
      "Done!\n"
     ]
    }
   ],
   "source": [
    "# training is conducted over several iterations(epochs) \n",
    "# during each epoch, the model learns the parameters to make better predictions \n",
    "# print the models accuracy and loss at each epoch \n",
    "# like to see the accuracy increase and the loss decrease with each epoch \n",
    "\n",
    "epochs = 5 \n",
    "for t in range(epochs): \n",
    "    print(f\"Epoch {t+1}\\n-------------------------------\") \n",
    "    train(train_dataloader, model, loss_fn, optimizer) \n",
    "    test(test_dataloader, model, loss_fn)\n",
    "print(\"Done!\")"
   ]
  },
  {
   "cell_type": "code",
   "execution_count": 21,
   "metadata": {},
   "outputs": [
    {
     "name": "stdout",
     "output_type": "stream",
     "text": [
      "Saved PyTorch Model State to model.pth\n"
     ]
    }
   ],
   "source": [
    "# SAVE THE MODEL \n",
    "torch.save(model.state_dict(), \"model.pth\") \n",
    "print(\"Saved PyTorch Model State to model.pth\")"
   ]
  },
  {
   "cell_type": "code",
   "execution_count": 22,
   "metadata": {},
   "outputs": [
    {
     "data": {
      "text/plain": [
       "<All keys matched successfully>"
      ]
     },
     "execution_count": 22,
     "metadata": {},
     "output_type": "execute_result"
    }
   ],
   "source": [
    "# LOAD THE MODEL \n",
    "model = NeuralNetwork()\n",
    "model.load_state_dict(torch.load(\"model.pth\"))"
   ]
  },
  {
   "cell_type": "code",
   "execution_count": 23,
   "metadata": {},
   "outputs": [
    {
     "name": "stdout",
     "output_type": "stream",
     "text": [
      "Predicted: \"Ankle boot\", Actual: \"Ankle boot\"\n"
     ]
    }
   ],
   "source": [
    "classes = [\n",
    "    \"T-shirt/top\",\n",
    "    \"Trouser\",\n",
    "    \"Pullover\",\n",
    "    \"Dress\",\n",
    "    \"Coat\",\n",
    "    \"Sandal\",\n",
    "    \"Shirt\",\n",
    "    \"Sneaker\",\n",
    "    \"Bag\",\n",
    "    \"Ankle boot\",\n",
    "]\n",
    "\n",
    "model.eval()\n",
    "x, y = test_data[0][0], test_data[0][1]\n",
    "with torch.no_grad():\n",
    "    pred = model(x)\n",
    "    predicted, actual = classes[pred[0].argmax(0)], classes[y]\n",
    "    print(f'Predicted: \"{predicted}\", Actual: \"{actual}\"')"
   ]
  },
  {
   "cell_type": "code",
   "execution_count": null,
   "metadata": {},
   "outputs": [],
   "source": []
  }
 ],
 "metadata": {
  "kernelspec": {
   "display_name": "Python 3",
   "language": "python",
   "name": "python3"
  },
  "language_info": {
   "codemirror_mode": {
    "name": "ipython",
    "version": 3
   },
   "file_extension": ".py",
   "mimetype": "text/x-python",
   "name": "python",
   "nbconvert_exporter": "python",
   "pygments_lexer": "ipython3",
   "version": "3.9.12"
  },
  "orig_nbformat": 4,
  "vscode": {
   "interpreter": {
    "hash": "d3d2a5fb68d057fc5fd610e13dcf10e3911223c5d72f23a4cd3585d5ebdd9e42"
   }
  }
 },
 "nbformat": 4,
 "nbformat_minor": 2
}
